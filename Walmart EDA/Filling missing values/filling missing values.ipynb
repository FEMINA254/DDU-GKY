{
 "cells": [
  {
   "cell_type": "markdown",
   "id": "4c7c7cb3",
   "metadata": {},
   "source": [
    "## Filling missing values"
   ]
  },
  {
   "cell_type": "code",
   "execution_count": 1,
   "id": "791e1c05",
   "metadata": {},
   "outputs": [],
   "source": [
    "import pandas as pd\n",
    "import numpy as np\n",
    "import warnings\n",
    "warnings.filterwarnings(\"ignore\")"
   ]
  },
  {
   "cell_type": "code",
   "execution_count": 4,
   "id": "73a16efe",
   "metadata": {},
   "outputs": [
    {
     "data": {
      "text/html": [
       "<div>\n",
       "<style scoped>\n",
       "    .dataframe tbody tr th:only-of-type {\n",
       "        vertical-align: middle;\n",
       "    }\n",
       "\n",
       "    .dataframe tbody tr th {\n",
       "        vertical-align: top;\n",
       "    }\n",
       "\n",
       "    .dataframe thead th {\n",
       "        text-align: right;\n",
       "    }\n",
       "</style>\n",
       "<table border=\"1\" class=\"dataframe\">\n",
       "  <thead>\n",
       "    <tr style=\"text-align: right;\">\n",
       "      <th></th>\n",
       "      <th>date</th>\n",
       "      <th>temperature</th>\n",
       "      <th>windSpeed</th>\n",
       "      <th>status</th>\n",
       "    </tr>\n",
       "  </thead>\n",
       "  <tbody>\n",
       "    <tr>\n",
       "      <th>0</th>\n",
       "      <td>2020-05-06</td>\n",
       "      <td>35.6582</td>\n",
       "      <td>10.788378</td>\n",
       "      <td>sunny</td>\n",
       "    </tr>\n",
       "    <tr>\n",
       "      <th>1</th>\n",
       "      <td>2020-05-07</td>\n",
       "      <td>NaN</td>\n",
       "      <td>NaN</td>\n",
       "      <td>NaN</td>\n",
       "    </tr>\n",
       "    <tr>\n",
       "      <th>2</th>\n",
       "      <td>2020-05-08</td>\n",
       "      <td>30.9343</td>\n",
       "      <td>NaN</td>\n",
       "      <td>rainy</td>\n",
       "    </tr>\n",
       "    <tr>\n",
       "      <th>3</th>\n",
       "      <td>2020-05-09</td>\n",
       "      <td>NaN</td>\n",
       "      <td>6.889682</td>\n",
       "      <td>cloudy</td>\n",
       "    </tr>\n",
       "    <tr>\n",
       "      <th>4</th>\n",
       "      <td>2020-05-10</td>\n",
       "      <td>13.9082</td>\n",
       "      <td>19.012990</td>\n",
       "      <td>rainy</td>\n",
       "    </tr>\n",
       "  </tbody>\n",
       "</table>\n",
       "</div>"
      ],
      "text/plain": [
       "        date  temperature  windSpeed  status\n",
       "0 2020-05-06      35.6582  10.788378   sunny\n",
       "1 2020-05-07          NaN        NaN     NaN\n",
       "2 2020-05-08      30.9343        NaN   rainy\n",
       "3 2020-05-09          NaN   6.889682  cloudy\n",
       "4 2020-05-10      13.9082  19.012990   rainy"
      ]
     },
     "execution_count": 4,
     "metadata": {},
     "output_type": "execute_result"
    }
   ],
   "source": [
    "data=pd.read_excel('./fill_na.xlsx')\n",
    "data.head(5)"
   ]
  },
  {
   "cell_type": "markdown",
   "id": "0da51f34",
   "metadata": {},
   "source": [
    "### Filling a common value to all missing data "
   ]
  },
  {
   "cell_type": "code",
   "execution_count": 5,
   "id": "6780e726",
   "metadata": {},
   "outputs": [
    {
     "data": {
      "text/html": [
       "<div>\n",
       "<style scoped>\n",
       "    .dataframe tbody tr th:only-of-type {\n",
       "        vertical-align: middle;\n",
       "    }\n",
       "\n",
       "    .dataframe tbody tr th {\n",
       "        vertical-align: top;\n",
       "    }\n",
       "\n",
       "    .dataframe thead th {\n",
       "        text-align: right;\n",
       "    }\n",
       "</style>\n",
       "<table border=\"1\" class=\"dataframe\">\n",
       "  <thead>\n",
       "    <tr style=\"text-align: right;\">\n",
       "      <th></th>\n",
       "      <th>date</th>\n",
       "      <th>temperature</th>\n",
       "      <th>windSpeed</th>\n",
       "      <th>status</th>\n",
       "    </tr>\n",
       "  </thead>\n",
       "  <tbody>\n",
       "    <tr>\n",
       "      <th>0</th>\n",
       "      <td>2020-05-06</td>\n",
       "      <td>35.6582</td>\n",
       "      <td>10.788378</td>\n",
       "      <td>sunny</td>\n",
       "    </tr>\n",
       "    <tr>\n",
       "      <th>1</th>\n",
       "      <td>2020-05-07</td>\n",
       "      <td>0.0000</td>\n",
       "      <td>0.000000</td>\n",
       "      <td>0</td>\n",
       "    </tr>\n",
       "    <tr>\n",
       "      <th>2</th>\n",
       "      <td>2020-05-08</td>\n",
       "      <td>30.9343</td>\n",
       "      <td>0.000000</td>\n",
       "      <td>rainy</td>\n",
       "    </tr>\n",
       "    <tr>\n",
       "      <th>3</th>\n",
       "      <td>2020-05-09</td>\n",
       "      <td>0.0000</td>\n",
       "      <td>6.889682</td>\n",
       "      <td>cloudy</td>\n",
       "    </tr>\n",
       "    <tr>\n",
       "      <th>4</th>\n",
       "      <td>2020-05-10</td>\n",
       "      <td>13.9082</td>\n",
       "      <td>19.012990</td>\n",
       "      <td>rainy</td>\n",
       "    </tr>\n",
       "    <tr>\n",
       "      <th>5</th>\n",
       "      <td>2020-05-11</td>\n",
       "      <td>23.9382</td>\n",
       "      <td>0.000000</td>\n",
       "      <td>sunny</td>\n",
       "    </tr>\n",
       "  </tbody>\n",
       "</table>\n",
       "</div>"
      ],
      "text/plain": [
       "        date  temperature  windSpeed  status\n",
       "0 2020-05-06      35.6582  10.788378   sunny\n",
       "1 2020-05-07       0.0000   0.000000       0\n",
       "2 2020-05-08      30.9343   0.000000   rainy\n",
       "3 2020-05-09       0.0000   6.889682  cloudy\n",
       "4 2020-05-10      13.9082  19.012990   rainy\n",
       "5 2020-05-11      23.9382   0.000000   sunny"
      ]
     },
     "execution_count": 5,
     "metadata": {},
     "output_type": "execute_result"
    }
   ],
   "source": [
    "data.fillna(0)"
   ]
  },
  {
   "cell_type": "markdown",
   "id": "22ec10c6",
   "metadata": {},
   "source": [
    "### Adding missing data to individual columns "
   ]
  },
  {
   "cell_type": "code",
   "execution_count": 6,
   "id": "30b98237",
   "metadata": {},
   "outputs": [
    {
     "data": {
      "text/html": [
       "<div>\n",
       "<style scoped>\n",
       "    .dataframe tbody tr th:only-of-type {\n",
       "        vertical-align: middle;\n",
       "    }\n",
       "\n",
       "    .dataframe tbody tr th {\n",
       "        vertical-align: top;\n",
       "    }\n",
       "\n",
       "    .dataframe thead th {\n",
       "        text-align: right;\n",
       "    }\n",
       "</style>\n",
       "<table border=\"1\" class=\"dataframe\">\n",
       "  <thead>\n",
       "    <tr style=\"text-align: right;\">\n",
       "      <th></th>\n",
       "      <th>date</th>\n",
       "      <th>temperature</th>\n",
       "      <th>windSpeed</th>\n",
       "      <th>status</th>\n",
       "    </tr>\n",
       "  </thead>\n",
       "  <tbody>\n",
       "    <tr>\n",
       "      <th>0</th>\n",
       "      <td>2020-05-06</td>\n",
       "      <td>35.6582</td>\n",
       "      <td>10.788378</td>\n",
       "      <td>sunny</td>\n",
       "    </tr>\n",
       "    <tr>\n",
       "      <th>1</th>\n",
       "      <td>2020-05-07</td>\n",
       "      <td>0.0000</td>\n",
       "      <td>10.000000</td>\n",
       "      <td>sunny</td>\n",
       "    </tr>\n",
       "    <tr>\n",
       "      <th>2</th>\n",
       "      <td>2020-05-08</td>\n",
       "      <td>30.9343</td>\n",
       "      <td>10.000000</td>\n",
       "      <td>rainy</td>\n",
       "    </tr>\n",
       "    <tr>\n",
       "      <th>3</th>\n",
       "      <td>2020-05-09</td>\n",
       "      <td>0.0000</td>\n",
       "      <td>6.889682</td>\n",
       "      <td>cloudy</td>\n",
       "    </tr>\n",
       "    <tr>\n",
       "      <th>4</th>\n",
       "      <td>2020-05-10</td>\n",
       "      <td>13.9082</td>\n",
       "      <td>19.012990</td>\n",
       "      <td>rainy</td>\n",
       "    </tr>\n",
       "    <tr>\n",
       "      <th>5</th>\n",
       "      <td>2020-05-11</td>\n",
       "      <td>23.9382</td>\n",
       "      <td>10.000000</td>\n",
       "      <td>sunny</td>\n",
       "    </tr>\n",
       "  </tbody>\n",
       "</table>\n",
       "</div>"
      ],
      "text/plain": [
       "        date  temperature  windSpeed  status\n",
       "0 2020-05-06      35.6582  10.788378   sunny\n",
       "1 2020-05-07       0.0000  10.000000   sunny\n",
       "2 2020-05-08      30.9343  10.000000   rainy\n",
       "3 2020-05-09       0.0000   6.889682  cloudy\n",
       "4 2020-05-10      13.9082  19.012990   rainy\n",
       "5 2020-05-11      23.9382  10.000000   sunny"
      ]
     },
     "execution_count": 6,
     "metadata": {},
     "output_type": "execute_result"
    }
   ],
   "source": [
    "data.fillna({'temperature':0,'windSpeed':10,'status':'sunny'})"
   ]
  },
  {
   "cell_type": "markdown",
   "id": "4b41bf69",
   "metadata": {},
   "source": [
    "### We can access individual columns by an alternative way also"
   ]
  },
  {
   "cell_type": "code",
   "execution_count": 7,
   "id": "6caa4337",
   "metadata": {},
   "outputs": [
    {
     "data": {
      "text/plain": [
       "0     sunny\n",
       "1     windy\n",
       "2     rainy\n",
       "3    cloudy\n",
       "4     rainy\n",
       "5     sunny\n",
       "Name: status, dtype: object"
      ]
     },
     "execution_count": 7,
     "metadata": {},
     "output_type": "execute_result"
    }
   ],
   "source": [
    "data.status.fillna('windy')"
   ]
  },
  {
   "cell_type": "markdown",
   "id": "6323a95c",
   "metadata": {},
   "source": [
    "### Forward fill(Row) "
   ]
  },
  {
   "cell_type": "code",
   "execution_count": 8,
   "id": "674b239a",
   "metadata": {},
   "outputs": [
    {
     "data": {
      "text/html": [
       "<div>\n",
       "<style scoped>\n",
       "    .dataframe tbody tr th:only-of-type {\n",
       "        vertical-align: middle;\n",
       "    }\n",
       "\n",
       "    .dataframe tbody tr th {\n",
       "        vertical-align: top;\n",
       "    }\n",
       "\n",
       "    .dataframe thead th {\n",
       "        text-align: right;\n",
       "    }\n",
       "</style>\n",
       "<table border=\"1\" class=\"dataframe\">\n",
       "  <thead>\n",
       "    <tr style=\"text-align: right;\">\n",
       "      <th></th>\n",
       "      <th>date</th>\n",
       "      <th>temperature</th>\n",
       "      <th>windSpeed</th>\n",
       "      <th>status</th>\n",
       "    </tr>\n",
       "  </thead>\n",
       "  <tbody>\n",
       "    <tr>\n",
       "      <th>0</th>\n",
       "      <td>2020-05-06</td>\n",
       "      <td>35.6582</td>\n",
       "      <td>10.788378</td>\n",
       "      <td>sunny</td>\n",
       "    </tr>\n",
       "    <tr>\n",
       "      <th>1</th>\n",
       "      <td>2020-05-07</td>\n",
       "      <td>35.6582</td>\n",
       "      <td>10.788378</td>\n",
       "      <td>sunny</td>\n",
       "    </tr>\n",
       "    <tr>\n",
       "      <th>2</th>\n",
       "      <td>2020-05-08</td>\n",
       "      <td>30.9343</td>\n",
       "      <td>10.788378</td>\n",
       "      <td>rainy</td>\n",
       "    </tr>\n",
       "    <tr>\n",
       "      <th>3</th>\n",
       "      <td>2020-05-09</td>\n",
       "      <td>30.9343</td>\n",
       "      <td>6.889682</td>\n",
       "      <td>cloudy</td>\n",
       "    </tr>\n",
       "    <tr>\n",
       "      <th>4</th>\n",
       "      <td>2020-05-10</td>\n",
       "      <td>13.9082</td>\n",
       "      <td>19.012990</td>\n",
       "      <td>rainy</td>\n",
       "    </tr>\n",
       "    <tr>\n",
       "      <th>5</th>\n",
       "      <td>2020-05-11</td>\n",
       "      <td>23.9382</td>\n",
       "      <td>19.012990</td>\n",
       "      <td>sunny</td>\n",
       "    </tr>\n",
       "  </tbody>\n",
       "</table>\n",
       "</div>"
      ],
      "text/plain": [
       "        date  temperature  windSpeed  status\n",
       "0 2020-05-06      35.6582  10.788378   sunny\n",
       "1 2020-05-07      35.6582  10.788378   sunny\n",
       "2 2020-05-08      30.9343  10.788378   rainy\n",
       "3 2020-05-09      30.9343   6.889682  cloudy\n",
       "4 2020-05-10      13.9082  19.012990   rainy\n",
       "5 2020-05-11      23.9382  19.012990   sunny"
      ]
     },
     "execution_count": 8,
     "metadata": {},
     "output_type": "execute_result"
    }
   ],
   "source": [
    "data.fillna(method='ffill')"
   ]
  },
  {
   "cell_type": "markdown",
   "id": "7887b996",
   "metadata": {},
   "source": [
    "### Backward fill(Row)"
   ]
  },
  {
   "cell_type": "code",
   "execution_count": 9,
   "id": "aacf9fd8",
   "metadata": {},
   "outputs": [
    {
     "data": {
      "text/html": [
       "<div>\n",
       "<style scoped>\n",
       "    .dataframe tbody tr th:only-of-type {\n",
       "        vertical-align: middle;\n",
       "    }\n",
       "\n",
       "    .dataframe tbody tr th {\n",
       "        vertical-align: top;\n",
       "    }\n",
       "\n",
       "    .dataframe thead th {\n",
       "        text-align: right;\n",
       "    }\n",
       "</style>\n",
       "<table border=\"1\" class=\"dataframe\">\n",
       "  <thead>\n",
       "    <tr style=\"text-align: right;\">\n",
       "      <th></th>\n",
       "      <th>date</th>\n",
       "      <th>temperature</th>\n",
       "      <th>windSpeed</th>\n",
       "      <th>status</th>\n",
       "    </tr>\n",
       "  </thead>\n",
       "  <tbody>\n",
       "    <tr>\n",
       "      <th>0</th>\n",
       "      <td>2020-05-06</td>\n",
       "      <td>35.6582</td>\n",
       "      <td>10.788378</td>\n",
       "      <td>sunny</td>\n",
       "    </tr>\n",
       "    <tr>\n",
       "      <th>1</th>\n",
       "      <td>2020-05-07</td>\n",
       "      <td>30.9343</td>\n",
       "      <td>6.889682</td>\n",
       "      <td>rainy</td>\n",
       "    </tr>\n",
       "    <tr>\n",
       "      <th>2</th>\n",
       "      <td>2020-05-08</td>\n",
       "      <td>30.9343</td>\n",
       "      <td>6.889682</td>\n",
       "      <td>rainy</td>\n",
       "    </tr>\n",
       "    <tr>\n",
       "      <th>3</th>\n",
       "      <td>2020-05-09</td>\n",
       "      <td>13.9082</td>\n",
       "      <td>6.889682</td>\n",
       "      <td>cloudy</td>\n",
       "    </tr>\n",
       "    <tr>\n",
       "      <th>4</th>\n",
       "      <td>2020-05-10</td>\n",
       "      <td>13.9082</td>\n",
       "      <td>19.012990</td>\n",
       "      <td>rainy</td>\n",
       "    </tr>\n",
       "    <tr>\n",
       "      <th>5</th>\n",
       "      <td>2020-05-11</td>\n",
       "      <td>23.9382</td>\n",
       "      <td>NaN</td>\n",
       "      <td>sunny</td>\n",
       "    </tr>\n",
       "  </tbody>\n",
       "</table>\n",
       "</div>"
      ],
      "text/plain": [
       "        date  temperature  windSpeed  status\n",
       "0 2020-05-06      35.6582  10.788378   sunny\n",
       "1 2020-05-07      30.9343   6.889682   rainy\n",
       "2 2020-05-08      30.9343   6.889682   rainy\n",
       "3 2020-05-09      13.9082   6.889682  cloudy\n",
       "4 2020-05-10      13.9082  19.012990   rainy\n",
       "5 2020-05-11      23.9382        NaN   sunny"
      ]
     },
     "execution_count": 9,
     "metadata": {},
     "output_type": "execute_result"
    }
   ],
   "source": [
    "data.fillna(method='bfill')"
   ]
  },
  {
   "cell_type": "markdown",
   "id": "19ff51c2",
   "metadata": {},
   "source": [
    "### Forward fill(Column) "
   ]
  },
  {
   "cell_type": "code",
   "execution_count": 10,
   "id": "073d0695",
   "metadata": {},
   "outputs": [
    {
     "data": {
      "text/html": [
       "<div>\n",
       "<style scoped>\n",
       "    .dataframe tbody tr th:only-of-type {\n",
       "        vertical-align: middle;\n",
       "    }\n",
       "\n",
       "    .dataframe tbody tr th {\n",
       "        vertical-align: top;\n",
       "    }\n",
       "\n",
       "    .dataframe thead th {\n",
       "        text-align: right;\n",
       "    }\n",
       "</style>\n",
       "<table border=\"1\" class=\"dataframe\">\n",
       "  <thead>\n",
       "    <tr style=\"text-align: right;\">\n",
       "      <th></th>\n",
       "      <th>date</th>\n",
       "      <th>temperature</th>\n",
       "      <th>windSpeed</th>\n",
       "      <th>status</th>\n",
       "    </tr>\n",
       "  </thead>\n",
       "  <tbody>\n",
       "    <tr>\n",
       "      <th>0</th>\n",
       "      <td>2020-05-06</td>\n",
       "      <td>35.6582</td>\n",
       "      <td>10.788378</td>\n",
       "      <td>sunny</td>\n",
       "    </tr>\n",
       "    <tr>\n",
       "      <th>1</th>\n",
       "      <td>2020-05-07</td>\n",
       "      <td>2020-05-07 00:00:00</td>\n",
       "      <td>2020-05-07 00:00:00</td>\n",
       "      <td>2020-05-07 00:00:00</td>\n",
       "    </tr>\n",
       "    <tr>\n",
       "      <th>2</th>\n",
       "      <td>2020-05-08</td>\n",
       "      <td>30.9343</td>\n",
       "      <td>30.9343</td>\n",
       "      <td>rainy</td>\n",
       "    </tr>\n",
       "    <tr>\n",
       "      <th>3</th>\n",
       "      <td>2020-05-09</td>\n",
       "      <td>2020-05-09 00:00:00</td>\n",
       "      <td>6.889682</td>\n",
       "      <td>cloudy</td>\n",
       "    </tr>\n",
       "    <tr>\n",
       "      <th>4</th>\n",
       "      <td>2020-05-10</td>\n",
       "      <td>13.9082</td>\n",
       "      <td>19.01299</td>\n",
       "      <td>rainy</td>\n",
       "    </tr>\n",
       "    <tr>\n",
       "      <th>5</th>\n",
       "      <td>2020-05-11</td>\n",
       "      <td>23.9382</td>\n",
       "      <td>23.9382</td>\n",
       "      <td>sunny</td>\n",
       "    </tr>\n",
       "  </tbody>\n",
       "</table>\n",
       "</div>"
      ],
      "text/plain": [
       "        date          temperature            windSpeed               status\n",
       "0 2020-05-06              35.6582            10.788378                sunny\n",
       "1 2020-05-07  2020-05-07 00:00:00  2020-05-07 00:00:00  2020-05-07 00:00:00\n",
       "2 2020-05-08              30.9343              30.9343                rainy\n",
       "3 2020-05-09  2020-05-09 00:00:00             6.889682               cloudy\n",
       "4 2020-05-10              13.9082             19.01299                rainy\n",
       "5 2020-05-11              23.9382              23.9382                sunny"
      ]
     },
     "execution_count": 10,
     "metadata": {},
     "output_type": "execute_result"
    }
   ],
   "source": [
    "data.fillna(method='ffill',axis='columns')"
   ]
  },
  {
   "cell_type": "markdown",
   "id": "03ea8ac7",
   "metadata": {},
   "source": [
    "### Backward fill (Column) "
   ]
  },
  {
   "cell_type": "code",
   "execution_count": 11,
   "id": "4c92b31b",
   "metadata": {},
   "outputs": [
    {
     "data": {
      "text/html": [
       "<div>\n",
       "<style scoped>\n",
       "    .dataframe tbody tr th:only-of-type {\n",
       "        vertical-align: middle;\n",
       "    }\n",
       "\n",
       "    .dataframe tbody tr th {\n",
       "        vertical-align: top;\n",
       "    }\n",
       "\n",
       "    .dataframe thead th {\n",
       "        text-align: right;\n",
       "    }\n",
       "</style>\n",
       "<table border=\"1\" class=\"dataframe\">\n",
       "  <thead>\n",
       "    <tr style=\"text-align: right;\">\n",
       "      <th></th>\n",
       "      <th>date</th>\n",
       "      <th>temperature</th>\n",
       "      <th>windSpeed</th>\n",
       "      <th>status</th>\n",
       "    </tr>\n",
       "  </thead>\n",
       "  <tbody>\n",
       "    <tr>\n",
       "      <th>0</th>\n",
       "      <td>2020-05-06</td>\n",
       "      <td>35.6582</td>\n",
       "      <td>10.788378</td>\n",
       "      <td>sunny</td>\n",
       "    </tr>\n",
       "    <tr>\n",
       "      <th>1</th>\n",
       "      <td>2020-05-07</td>\n",
       "      <td>NaT</td>\n",
       "      <td>NaT</td>\n",
       "      <td>NaT</td>\n",
       "    </tr>\n",
       "    <tr>\n",
       "      <th>2</th>\n",
       "      <td>2020-05-08</td>\n",
       "      <td>30.9343</td>\n",
       "      <td>rainy</td>\n",
       "      <td>rainy</td>\n",
       "    </tr>\n",
       "    <tr>\n",
       "      <th>3</th>\n",
       "      <td>2020-05-09</td>\n",
       "      <td>6.889682</td>\n",
       "      <td>6.889682</td>\n",
       "      <td>cloudy</td>\n",
       "    </tr>\n",
       "    <tr>\n",
       "      <th>4</th>\n",
       "      <td>2020-05-10</td>\n",
       "      <td>13.9082</td>\n",
       "      <td>19.01299</td>\n",
       "      <td>rainy</td>\n",
       "    </tr>\n",
       "    <tr>\n",
       "      <th>5</th>\n",
       "      <td>2020-05-11</td>\n",
       "      <td>23.9382</td>\n",
       "      <td>sunny</td>\n",
       "      <td>sunny</td>\n",
       "    </tr>\n",
       "  </tbody>\n",
       "</table>\n",
       "</div>"
      ],
      "text/plain": [
       "        date temperature  windSpeed  status\n",
       "0 2020-05-06     35.6582  10.788378   sunny\n",
       "1 2020-05-07         NaT        NaT     NaT\n",
       "2 2020-05-08     30.9343      rainy   rainy\n",
       "3 2020-05-09    6.889682   6.889682  cloudy\n",
       "4 2020-05-10     13.9082   19.01299   rainy\n",
       "5 2020-05-11     23.9382      sunny   sunny"
      ]
     },
     "execution_count": 11,
     "metadata": {},
     "output_type": "execute_result"
    }
   ],
   "source": [
    "data.fillna(method='bfill',axis=\"columns\")"
   ]
  },
  {
   "cell_type": "markdown",
   "id": "1c0c12d2",
   "metadata": {},
   "source": [
    "### Limiting the Forward/Backward fill "
   ]
  },
  {
   "cell_type": "code",
   "execution_count": 12,
   "id": "6268ad32",
   "metadata": {},
   "outputs": [
    {
     "data": {
      "text/html": [
       "<div>\n",
       "<style scoped>\n",
       "    .dataframe tbody tr th:only-of-type {\n",
       "        vertical-align: middle;\n",
       "    }\n",
       "\n",
       "    .dataframe tbody tr th {\n",
       "        vertical-align: top;\n",
       "    }\n",
       "\n",
       "    .dataframe thead th {\n",
       "        text-align: right;\n",
       "    }\n",
       "</style>\n",
       "<table border=\"1\" class=\"dataframe\">\n",
       "  <thead>\n",
       "    <tr style=\"text-align: right;\">\n",
       "      <th></th>\n",
       "      <th>date</th>\n",
       "      <th>temperature</th>\n",
       "      <th>windSpeed</th>\n",
       "      <th>status</th>\n",
       "    </tr>\n",
       "  </thead>\n",
       "  <tbody>\n",
       "    <tr>\n",
       "      <th>0</th>\n",
       "      <td>2020-05-06</td>\n",
       "      <td>35.6582</td>\n",
       "      <td>10.788378</td>\n",
       "      <td>sunny</td>\n",
       "    </tr>\n",
       "    <tr>\n",
       "      <th>1</th>\n",
       "      <td>2020-05-07</td>\n",
       "      <td>35.6582</td>\n",
       "      <td>10.788378</td>\n",
       "      <td>sunny</td>\n",
       "    </tr>\n",
       "    <tr>\n",
       "      <th>2</th>\n",
       "      <td>2020-05-08</td>\n",
       "      <td>30.9343</td>\n",
       "      <td>NaN</td>\n",
       "      <td>rainy</td>\n",
       "    </tr>\n",
       "    <tr>\n",
       "      <th>3</th>\n",
       "      <td>2020-05-09</td>\n",
       "      <td>30.9343</td>\n",
       "      <td>6.889682</td>\n",
       "      <td>cloudy</td>\n",
       "    </tr>\n",
       "    <tr>\n",
       "      <th>4</th>\n",
       "      <td>2020-05-10</td>\n",
       "      <td>13.9082</td>\n",
       "      <td>19.012990</td>\n",
       "      <td>rainy</td>\n",
       "    </tr>\n",
       "    <tr>\n",
       "      <th>5</th>\n",
       "      <td>2020-05-11</td>\n",
       "      <td>23.9382</td>\n",
       "      <td>19.012990</td>\n",
       "      <td>sunny</td>\n",
       "    </tr>\n",
       "  </tbody>\n",
       "</table>\n",
       "</div>"
      ],
      "text/plain": [
       "        date  temperature  windSpeed  status\n",
       "0 2020-05-06      35.6582  10.788378   sunny\n",
       "1 2020-05-07      35.6582  10.788378   sunny\n",
       "2 2020-05-08      30.9343        NaN   rainy\n",
       "3 2020-05-09      30.9343   6.889682  cloudy\n",
       "4 2020-05-10      13.9082  19.012990   rainy\n",
       "5 2020-05-11      23.9382  19.012990   sunny"
      ]
     },
     "execution_count": 12,
     "metadata": {},
     "output_type": "execute_result"
    }
   ],
   "source": [
    "data.fillna(method='ffill',limit=1)"
   ]
  },
  {
   "cell_type": "markdown",
   "id": "2ff2bfd8",
   "metadata": {},
   "source": [
    "### Filling the pandas objects"
   ]
  },
  {
   "cell_type": "code",
   "execution_count": 13,
   "id": "11d3ae6e",
   "metadata": {},
   "outputs": [
    {
     "data": {
      "text/html": [
       "<div>\n",
       "<style scoped>\n",
       "    .dataframe tbody tr th:only-of-type {\n",
       "        vertical-align: middle;\n",
       "    }\n",
       "\n",
       "    .dataframe tbody tr th {\n",
       "        vertical-align: top;\n",
       "    }\n",
       "\n",
       "    .dataframe thead th {\n",
       "        text-align: right;\n",
       "    }\n",
       "</style>\n",
       "<table border=\"1\" class=\"dataframe\">\n",
       "  <thead>\n",
       "    <tr style=\"text-align: right;\">\n",
       "      <th></th>\n",
       "      <th>date</th>\n",
       "      <th>temperature</th>\n",
       "      <th>windSpeed</th>\n",
       "      <th>status</th>\n",
       "    </tr>\n",
       "  </thead>\n",
       "  <tbody>\n",
       "    <tr>\n",
       "      <th>0</th>\n",
       "      <td>2020-05-06</td>\n",
       "      <td>35.658200</td>\n",
       "      <td>10.788378</td>\n",
       "      <td>sunny</td>\n",
       "    </tr>\n",
       "    <tr>\n",
       "      <th>1</th>\n",
       "      <td>2020-05-07</td>\n",
       "      <td>26.109725</td>\n",
       "      <td>12.230350</td>\n",
       "      <td>NaN</td>\n",
       "    </tr>\n",
       "    <tr>\n",
       "      <th>2</th>\n",
       "      <td>2020-05-08</td>\n",
       "      <td>30.934300</td>\n",
       "      <td>12.230350</td>\n",
       "      <td>rainy</td>\n",
       "    </tr>\n",
       "    <tr>\n",
       "      <th>3</th>\n",
       "      <td>2020-05-09</td>\n",
       "      <td>26.109725</td>\n",
       "      <td>6.889682</td>\n",
       "      <td>cloudy</td>\n",
       "    </tr>\n",
       "    <tr>\n",
       "      <th>4</th>\n",
       "      <td>2020-05-10</td>\n",
       "      <td>13.908200</td>\n",
       "      <td>19.012990</td>\n",
       "      <td>rainy</td>\n",
       "    </tr>\n",
       "    <tr>\n",
       "      <th>5</th>\n",
       "      <td>2020-05-11</td>\n",
       "      <td>23.938200</td>\n",
       "      <td>12.230350</td>\n",
       "      <td>sunny</td>\n",
       "    </tr>\n",
       "  </tbody>\n",
       "</table>\n",
       "</div>"
      ],
      "text/plain": [
       "        date  temperature  windSpeed  status\n",
       "0 2020-05-06    35.658200  10.788378   sunny\n",
       "1 2020-05-07    26.109725  12.230350     NaN\n",
       "2 2020-05-08    30.934300  12.230350   rainy\n",
       "3 2020-05-09    26.109725   6.889682  cloudy\n",
       "4 2020-05-10    13.908200  19.012990   rainy\n",
       "5 2020-05-11    23.938200  12.230350   sunny"
      ]
     },
     "execution_count": 13,
     "metadata": {},
     "output_type": "execute_result"
    }
   ],
   "source": [
    "data.fillna(data.mean())"
   ]
  },
  {
   "cell_type": "markdown",
   "id": "32e4578c",
   "metadata": {},
   "source": [
    "### Filling for specific range of columns "
   ]
  },
  {
   "cell_type": "code",
   "execution_count": 14,
   "id": "d8d5d0e7",
   "metadata": {},
   "outputs": [
    {
     "data": {
      "text/html": [
       "<div>\n",
       "<style scoped>\n",
       "    .dataframe tbody tr th:only-of-type {\n",
       "        vertical-align: middle;\n",
       "    }\n",
       "\n",
       "    .dataframe tbody tr th {\n",
       "        vertical-align: top;\n",
       "    }\n",
       "\n",
       "    .dataframe thead th {\n",
       "        text-align: right;\n",
       "    }\n",
       "</style>\n",
       "<table border=\"1\" class=\"dataframe\">\n",
       "  <thead>\n",
       "    <tr style=\"text-align: right;\">\n",
       "      <th></th>\n",
       "      <th>date</th>\n",
       "      <th>temperature</th>\n",
       "      <th>windSpeed</th>\n",
       "      <th>status</th>\n",
       "    </tr>\n",
       "  </thead>\n",
       "  <tbody>\n",
       "    <tr>\n",
       "      <th>0</th>\n",
       "      <td>2020-05-06</td>\n",
       "      <td>35.658200</td>\n",
       "      <td>10.788378</td>\n",
       "      <td>sunny</td>\n",
       "    </tr>\n",
       "    <tr>\n",
       "      <th>1</th>\n",
       "      <td>2020-05-07</td>\n",
       "      <td>26.109725</td>\n",
       "      <td>12.230350</td>\n",
       "      <td>NaN</td>\n",
       "    </tr>\n",
       "    <tr>\n",
       "      <th>2</th>\n",
       "      <td>2020-05-08</td>\n",
       "      <td>30.934300</td>\n",
       "      <td>12.230350</td>\n",
       "      <td>rainy</td>\n",
       "    </tr>\n",
       "    <tr>\n",
       "      <th>3</th>\n",
       "      <td>2020-05-09</td>\n",
       "      <td>26.109725</td>\n",
       "      <td>6.889682</td>\n",
       "      <td>cloudy</td>\n",
       "    </tr>\n",
       "    <tr>\n",
       "      <th>4</th>\n",
       "      <td>2020-05-10</td>\n",
       "      <td>13.908200</td>\n",
       "      <td>19.012990</td>\n",
       "      <td>rainy</td>\n",
       "    </tr>\n",
       "    <tr>\n",
       "      <th>5</th>\n",
       "      <td>2020-05-11</td>\n",
       "      <td>23.938200</td>\n",
       "      <td>12.230350</td>\n",
       "      <td>sunny</td>\n",
       "    </tr>\n",
       "  </tbody>\n",
       "</table>\n",
       "</div>"
      ],
      "text/plain": [
       "        date  temperature  windSpeed  status\n",
       "0 2020-05-06    35.658200  10.788378   sunny\n",
       "1 2020-05-07    26.109725  12.230350     NaN\n",
       "2 2020-05-08    30.934300  12.230350   rainy\n",
       "3 2020-05-09    26.109725   6.889682  cloudy\n",
       "4 2020-05-10    13.908200  19.012990   rainy\n",
       "5 2020-05-11    23.938200  12.230350   sunny"
      ]
     },
     "execution_count": 14,
     "metadata": {},
     "output_type": "execute_result"
    }
   ],
   "source": [
    "data.fillna(data.mean()['temperature':'windSpeed'])"
   ]
  },
  {
   "cell_type": "markdown",
   "id": "5e01142e",
   "metadata": {},
   "source": [
    "## Interpolate missing value  "
   ]
  },
  {
   "cell_type": "markdown",
   "id": "b8aafef3",
   "metadata": {},
   "source": [
    "### Linear interpolate "
   ]
  },
  {
   "cell_type": "code",
   "execution_count": 15,
   "id": "29b72297",
   "metadata": {},
   "outputs": [
    {
     "data": {
      "text/plain": [
       "0    35.65820\n",
       "1    33.29625\n",
       "2    30.93430\n",
       "3    22.42125\n",
       "4    13.90820\n",
       "5    23.93820\n",
       "Name: temperature, dtype: float64"
      ]
     },
     "execution_count": 15,
     "metadata": {},
     "output_type": "execute_result"
    }
   ],
   "source": [
    "data.temperature.interpolate()"
   ]
  },
  {
   "cell_type": "markdown",
   "id": "b34e4326",
   "metadata": {},
   "source": [
    "### Other methods "
   ]
  },
  {
   "cell_type": "code",
   "execution_count": 18,
   "id": "82f650e6",
   "metadata": {},
   "outputs": [
    {
     "data": {
      "text/plain": [
       "0    35.65820\n",
       "1    39.46530\n",
       "2    30.93430\n",
       "3    19.32775\n",
       "4    13.90820\n",
       "5    23.93820\n",
       "Name: temperature, dtype: float64"
      ]
     },
     "execution_count": 18,
     "metadata": {},
     "output_type": "execute_result"
    }
   ],
   "source": [
    "data.temperature.interpolate(method='barycentric')"
   ]
  },
  {
   "cell_type": "code",
   "execution_count": 19,
   "id": "d231a00e",
   "metadata": {},
   "outputs": [
    {
     "data": {
      "text/plain": [
       "0    35.658200\n",
       "1    34.220728\n",
       "2    30.934300\n",
       "3    21.496772\n",
       "4    13.908200\n",
       "5    23.938200\n",
       "Name: temperature, dtype: float64"
      ]
     },
     "execution_count": 19,
     "metadata": {},
     "output_type": "execute_result"
    }
   ],
   "source": [
    "data.temperature.interpolate(method='pchip')"
   ]
  },
  {
   "cell_type": "code",
   "execution_count": 20,
   "id": "fce54692",
   "metadata": {},
   "outputs": [
    {
     "data": {
      "text/plain": [
       "0    35.658200\n",
       "1    34.448184\n",
       "2    30.934300\n",
       "3    22.421250\n",
       "4    13.908200\n",
       "5    23.938200\n",
       "Name: temperature, dtype: float64"
      ]
     },
     "execution_count": 20,
     "metadata": {},
     "output_type": "execute_result"
    }
   ],
   "source": [
    "data.temperature.interpolate(method='akima')"
   ]
  },
  {
   "cell_type": "code",
   "execution_count": 21,
   "id": "3b1dde8d",
   "metadata": {},
   "outputs": [
    {
     "data": {
      "text/plain": [
       "0    35.658200\n",
       "1    35.076089\n",
       "2    30.934300\n",
       "3    20.526966\n",
       "4    13.908200\n",
       "5    23.938200\n",
       "Name: temperature, dtype: float64"
      ]
     },
     "execution_count": 21,
     "metadata": {},
     "output_type": "execute_result"
    }
   ],
   "source": [
    "data.temperature.interpolate(method='spline',order=2)"
   ]
  },
  {
   "cell_type": "code",
   "execution_count": 22,
   "id": "2a0411b9",
   "metadata": {},
   "outputs": [
    {
     "data": {
      "text/plain": [
       "0    35.658200\n",
       "1    36.196165\n",
       "2    30.934300\n",
       "3    19.872606\n",
       "4    13.908200\n",
       "5    23.938200\n",
       "Name: temperature, dtype: float64"
      ]
     },
     "execution_count": 22,
     "metadata": {},
     "output_type": "execute_result"
    }
   ],
   "source": [
    "data.temperature.interpolate(method=\"polynomial\",order=2)"
   ]
  },
  {
   "cell_type": "code",
   "execution_count": null,
   "id": "9ca45f0a",
   "metadata": {},
   "outputs": [],
   "source": []
  }
 ],
 "metadata": {
  "kernelspec": {
   "display_name": "Python 3 (ipykernel)",
   "language": "python",
   "name": "python3"
  },
  "language_info": {
   "codemirror_mode": {
    "name": "ipython",
    "version": 3
   },
   "file_extension": ".py",
   "mimetype": "text/x-python",
   "name": "python",
   "nbconvert_exporter": "python",
   "pygments_lexer": "ipython3",
   "version": "3.9.13"
  }
 },
 "nbformat": 4,
 "nbformat_minor": 5
}
