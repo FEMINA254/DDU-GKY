{
 "cells": [
  {
   "cell_type": "markdown",
   "id": "82146c1b",
   "metadata": {},
   "source": [
    "### creating dataframes using different methods"
   ]
  },
  {
   "cell_type": "code",
   "execution_count": 1,
   "id": "8fccde34",
   "metadata": {},
   "outputs": [],
   "source": [
    "import pandas as pd\n",
    "import numpy as np"
   ]
  },
  {
   "cell_type": "markdown",
   "id": "93f40fd2",
   "metadata": {},
   "source": [
    "#### finding data type"
   ]
  },
  {
   "cell_type": "code",
   "execution_count": 2,
   "id": "832c5898",
   "metadata": {},
   "outputs": [
    {
     "name": "stdout",
     "output_type": "stream",
     "text": [
      "int64\n"
     ]
    }
   ],
   "source": [
    "value_series=pd.Series([10,20,30,40,50])\n",
    "print(value_series.dtype)"
   ]
  },
  {
   "cell_type": "markdown",
   "id": "6be85739",
   "metadata": {},
   "source": [
    "### converting to list"
   ]
  },
  {
   "cell_type": "code",
   "execution_count": 3,
   "id": "1bfd6834",
   "metadata": {},
   "outputs": [
    {
     "name": "stdout",
     "output_type": "stream",
     "text": [
      "[10, 20, 30, 40, 50]\n"
     ]
    }
   ],
   "source": [
    "print(value_series.to_list())"
   ]
  },
  {
   "cell_type": "markdown",
   "id": "96902a57",
   "metadata": {},
   "source": [
    "## pandas dataframe"
   ]
  },
  {
   "cell_type": "markdown",
   "id": "770731fe",
   "metadata": {},
   "source": [
    "### to create empty dataframe "
   ]
  },
  {
   "cell_type": "code",
   "execution_count": 4,
   "id": "afac56ac",
   "metadata": {},
   "outputs": [
    {
     "name": "stdout",
     "output_type": "stream",
     "text": [
      "Empty DataFrame\n",
      "Columns: []\n",
      "Index: []\n"
     ]
    }
   ],
   "source": [
    "my_df=pd.DataFrame()\n",
    "print(my_df)"
   ]
  },
  {
   "cell_type": "markdown",
   "id": "7165b0f8",
   "metadata": {},
   "source": [
    "### 1.dataframe using list of lists"
   ]
  },
  {
   "cell_type": "code",
   "execution_count": 7,
   "id": "9405e0f4",
   "metadata": {},
   "outputs": [
    {
     "data": {
      "text/html": [
       "<div>\n",
       "<style scoped>\n",
       "    .dataframe tbody tr th:only-of-type {\n",
       "        vertical-align: middle;\n",
       "    }\n",
       "\n",
       "    .dataframe tbody tr th {\n",
       "        vertical-align: top;\n",
       "    }\n",
       "\n",
       "    .dataframe thead th {\n",
       "        text-align: right;\n",
       "    }\n",
       "</style>\n",
       "<table border=\"1\" class=\"dataframe\">\n",
       "  <thead>\n",
       "    <tr style=\"text-align: right;\">\n",
       "      <th></th>\n",
       "      <th>fruits</th>\n",
       "      <th>rate</th>\n",
       "    </tr>\n",
       "  </thead>\n",
       "  <tbody>\n",
       "    <tr>\n",
       "      <th>0</th>\n",
       "      <td>apple</td>\n",
       "      <td>100</td>\n",
       "    </tr>\n",
       "    <tr>\n",
       "      <th>1</th>\n",
       "      <td>orange</td>\n",
       "      <td>120</td>\n",
       "    </tr>\n",
       "    <tr>\n",
       "      <th>2</th>\n",
       "      <td>grapes</td>\n",
       "      <td>140</td>\n",
       "    </tr>\n",
       "    <tr>\n",
       "      <th>3</th>\n",
       "      <td>strawberry</td>\n",
       "      <td>160</td>\n",
       "    </tr>\n",
       "    <tr>\n",
       "      <th>4</th>\n",
       "      <td>pineapple</td>\n",
       "      <td>110</td>\n",
       "    </tr>\n",
       "    <tr>\n",
       "      <th>5</th>\n",
       "      <td>papaya</td>\n",
       "      <td>90</td>\n",
       "    </tr>\n",
       "    <tr>\n",
       "      <th>6</th>\n",
       "      <td>watermelon</td>\n",
       "      <td>60</td>\n",
       "    </tr>\n",
       "    <tr>\n",
       "      <th>7</th>\n",
       "      <td>lemon</td>\n",
       "      <td>30</td>\n",
       "    </tr>\n",
       "    <tr>\n",
       "      <th>8</th>\n",
       "      <td>blackberry</td>\n",
       "      <td>150</td>\n",
       "    </tr>\n",
       "    <tr>\n",
       "      <th>9</th>\n",
       "      <td>banana</td>\n",
       "      <td>45</td>\n",
       "    </tr>\n",
       "  </tbody>\n",
       "</table>\n",
       "</div>"
      ],
      "text/plain": [
       "       fruits  rate\n",
       "0       apple   100\n",
       "1      orange   120\n",
       "2      grapes   140\n",
       "3  strawberry   160\n",
       "4   pineapple   110\n",
       "5      papaya    90\n",
       "6  watermelon    60\n",
       "7       lemon    30\n",
       "8  blackberry   150\n",
       "9      banana    45"
      ]
     },
     "execution_count": 7,
     "metadata": {},
     "output_type": "execute_result"
    }
   ],
   "source": [
    "fruit_shop=[['apple',100],['orange',120],['grapes',140],['strawberry',160],['pineapple',110],['papaya',90],['watermelon',60],['lemon',30],['blackberry',150],['banana',45]]\n",
    "my_shop=pd.DataFrame(fruit_shop,columns=['fruits','rate'])\n",
    "my_shop"
   ]
  },
  {
   "cell_type": "markdown",
   "id": "21a08384",
   "metadata": {},
   "source": [
    "### 2.dataframe using dictionaries"
   ]
  },
  {
   "cell_type": "code",
   "execution_count": 11,
   "id": "5e445086",
   "metadata": {},
   "outputs": [
    {
     "data": {
      "text/html": [
       "<div>\n",
       "<style scoped>\n",
       "    .dataframe tbody tr th:only-of-type {\n",
       "        vertical-align: middle;\n",
       "    }\n",
       "\n",
       "    .dataframe tbody tr th {\n",
       "        vertical-align: top;\n",
       "    }\n",
       "\n",
       "    .dataframe thead th {\n",
       "        text-align: right;\n",
       "    }\n",
       "</style>\n",
       "<table border=\"1\" class=\"dataframe\">\n",
       "  <thead>\n",
       "    <tr style=\"text-align: right;\">\n",
       "      <th></th>\n",
       "      <th>fruits</th>\n",
       "      <th>rate</th>\n",
       "    </tr>\n",
       "  </thead>\n",
       "  <tbody>\n",
       "    <tr>\n",
       "      <th>0</th>\n",
       "      <td>apple</td>\n",
       "      <td>100</td>\n",
       "    </tr>\n",
       "    <tr>\n",
       "      <th>1</th>\n",
       "      <td>orange</td>\n",
       "      <td>120</td>\n",
       "    </tr>\n",
       "    <tr>\n",
       "      <th>2</th>\n",
       "      <td>grapes</td>\n",
       "      <td>140</td>\n",
       "    </tr>\n",
       "    <tr>\n",
       "      <th>3</th>\n",
       "      <td>strawberry</td>\n",
       "      <td>160</td>\n",
       "    </tr>\n",
       "    <tr>\n",
       "      <th>4</th>\n",
       "      <td>pineapple</td>\n",
       "      <td>110</td>\n",
       "    </tr>\n",
       "    <tr>\n",
       "      <th>5</th>\n",
       "      <td>papaya</td>\n",
       "      <td>90</td>\n",
       "    </tr>\n",
       "    <tr>\n",
       "      <th>6</th>\n",
       "      <td>watermelon</td>\n",
       "      <td>60</td>\n",
       "    </tr>\n",
       "    <tr>\n",
       "      <th>7</th>\n",
       "      <td>lemon</td>\n",
       "      <td>30</td>\n",
       "    </tr>\n",
       "    <tr>\n",
       "      <th>8</th>\n",
       "      <td>blackberry</td>\n",
       "      <td>150</td>\n",
       "    </tr>\n",
       "    <tr>\n",
       "      <th>9</th>\n",
       "      <td>banana</td>\n",
       "      <td>45</td>\n",
       "    </tr>\n",
       "  </tbody>\n",
       "</table>\n",
       "</div>"
      ],
      "text/plain": [
       "       fruits  rate\n",
       "0       apple   100\n",
       "1      orange   120\n",
       "2      grapes   140\n",
       "3  strawberry   160\n",
       "4   pineapple   110\n",
       "5      papaya    90\n",
       "6  watermelon    60\n",
       "7       lemon    30\n",
       "8  blackberry   150\n",
       "9      banana    45"
      ]
     },
     "execution_count": 11,
     "metadata": {},
     "output_type": "execute_result"
    }
   ],
   "source": [
    "fruit_shop={'fruits':[\"apple\",\"orange\",\"grapes\",\"strawberry\",\"pineapple\",\"papaya\",\"watermelon\",\"lemon\",\"blackberry\",\"banana\"],'rate':[100,120,140,160,110,90,60,30,150,45]}\n",
    "my_shop=pd.DataFrame(fruit_shop)\n",
    "my_shop"
   ]
  },
  {
   "cell_type": "markdown",
   "id": "7d17290b",
   "metadata": {},
   "source": [
    "### dataframe using list of dictionaries"
   ]
  },
  {
   "cell_type": "code",
   "execution_count": 14,
   "id": "a1a378fa",
   "metadata": {},
   "outputs": [
    {
     "data": {
      "text/html": [
       "<div>\n",
       "<style scoped>\n",
       "    .dataframe tbody tr th:only-of-type {\n",
       "        vertical-align: middle;\n",
       "    }\n",
       "\n",
       "    .dataframe tbody tr th {\n",
       "        vertical-align: top;\n",
       "    }\n",
       "\n",
       "    .dataframe thead th {\n",
       "        text-align: right;\n",
       "    }\n",
       "</style>\n",
       "<table border=\"1\" class=\"dataframe\">\n",
       "  <thead>\n",
       "    <tr style=\"text-align: right;\">\n",
       "      <th></th>\n",
       "      <th>fruits</th>\n",
       "      <th>rate</th>\n",
       "    </tr>\n",
       "  </thead>\n",
       "  <tbody>\n",
       "    <tr>\n",
       "      <th>0</th>\n",
       "      <td>apple</td>\n",
       "      <td>100</td>\n",
       "    </tr>\n",
       "    <tr>\n",
       "      <th>1</th>\n",
       "      <td>orange</td>\n",
       "      <td>120</td>\n",
       "    </tr>\n",
       "    <tr>\n",
       "      <th>2</th>\n",
       "      <td>grapes</td>\n",
       "      <td>140</td>\n",
       "    </tr>\n",
       "    <tr>\n",
       "      <th>3</th>\n",
       "      <td>strawberry</td>\n",
       "      <td>160</td>\n",
       "    </tr>\n",
       "    <tr>\n",
       "      <th>4</th>\n",
       "      <td>pineapple</td>\n",
       "      <td>110</td>\n",
       "    </tr>\n",
       "    <tr>\n",
       "      <th>5</th>\n",
       "      <td>papaya</td>\n",
       "      <td>90</td>\n",
       "    </tr>\n",
       "    <tr>\n",
       "      <th>6</th>\n",
       "      <td>watermelon</td>\n",
       "      <td>60</td>\n",
       "    </tr>\n",
       "    <tr>\n",
       "      <th>7</th>\n",
       "      <td>lemon</td>\n",
       "      <td>30</td>\n",
       "    </tr>\n",
       "    <tr>\n",
       "      <th>8</th>\n",
       "      <td>blackberry</td>\n",
       "      <td>150</td>\n",
       "    </tr>\n",
       "    <tr>\n",
       "      <th>9</th>\n",
       "      <td>banana</td>\n",
       "      <td>45</td>\n",
       "    </tr>\n",
       "  </tbody>\n",
       "</table>\n",
       "</div>"
      ],
      "text/plain": [
       "       fruits  rate\n",
       "0       apple   100\n",
       "1      orange   120\n",
       "2      grapes   140\n",
       "3  strawberry   160\n",
       "4   pineapple   110\n",
       "5      papaya    90\n",
       "6  watermelon    60\n",
       "7       lemon    30\n",
       "8  blackberry   150\n",
       "9      banana    45"
      ]
     },
     "execution_count": 14,
     "metadata": {},
     "output_type": "execute_result"
    }
   ],
   "source": [
    "fruit_shop=[{'fruits':'apple','rate':100},\n",
    "           {'fruits':'orange','rate':120},\n",
    "           {'fruits':'grapes','rate':140},\n",
    "           {'fruits':'strawberry','rate':160},\n",
    "           {'fruits':'pineapple','rate':110},\n",
    "           {'fruits':'papaya','rate':90},\n",
    "           {'fruits':'watermelon','rate':60},\n",
    "           {'fruits':'lemon','rate':30},\n",
    "           {'fruits':'blackberry','rate':150},\n",
    "           {'fruits':'banana','rate':45},]\n",
    "my_shop=pd.DataFrame(fruit_shop)\n",
    "my_shop"
   ]
  },
  {
   "cell_type": "code",
   "execution_count": null,
   "id": "c3485663",
   "metadata": {},
   "outputs": [],
   "source": []
  }
 ],
 "metadata": {
  "kernelspec": {
   "display_name": "Python 3 (ipykernel)",
   "language": "python",
   "name": "python3"
  },
  "language_info": {
   "codemirror_mode": {
    "name": "ipython",
    "version": 3
   },
   "file_extension": ".py",
   "mimetype": "text/x-python",
   "name": "python",
   "nbconvert_exporter": "python",
   "pygments_lexer": "ipython3",
   "version": "3.9.13"
  }
 },
 "nbformat": 4,
 "nbformat_minor": 5
}
